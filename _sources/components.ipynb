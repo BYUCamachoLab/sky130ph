{
 "cells": [
  {
   "attachments": {},
   "cell_type": "markdown",
   "metadata": {},
   "source": [
    "This PDK has a library of photonic components that can be customized and readily used."
   ]
  },
  {
   "attachments": {},
   "cell_type": "markdown",
   "metadata": {},
   "source": [
    "## Photonic Components"
   ]
  },
  {
   "attachments": {},
   "cell_type": "markdown",
   "metadata": {},
   "source": [
    "### adiabatic_bend_90\n",
    "\n",
    ".. autofunction:: sky130ph.components.adiabatic_bend_90"
   ]
  },
  {
   "cell_type": "code",
   "execution_count": null,
   "metadata": {},
   "outputs": [],
   "source": [
    "import sky130ph.components as sky130ph\n",
    "\n",
    "c = sky130ph.adiabatic_bend_90()\n",
    "c"
   ]
  },
  {
   "cell_type": "markdown",
   "metadata": {},
   "source": [
    "## coupler\n",
    "\n",
    "```{eval-rst}\n",
    "..autofunction:: sky130ph.components.coupler()\n",
    "```"
   ]
  },
  {
   "cell_type": "code",
   "execution_count": null,
   "metadata": {},
   "outputs": [],
   "source": [
    "import sky130ph.components as sky130ph\n",
    "c = sky130ph.coupler()\n",
    "c"
   ]
  },
  {
   "attachments": {},
   "cell_type": "markdown",
   "metadata": {},
   "source": [
    "## dbr\n",
    "\n",
    "```{eval-rst}\n",
    "..autofunction:: sky130ph.components.dbr()\n",
    "```"
   ]
  },
  {
   "cell_type": "code",
   "execution_count": null,
   "metadata": {},
   "outputs": [],
   "source": [
    "import sky130ph.components as sky130ph\n",
    "c = sky130ph.dbr()\n",
    "c.plot()"
   ]
  }
 ],
 "metadata": {
  "kernelspec": {
   "display_name": "Python 3.8.15 ('test3')",
   "language": "python",
   "name": "python3"
  },
  "language_info": {
   "codemirror_mode": {
    "name": "ipython",
    "version": 3
   },
   "file_extension": ".py",
   "mimetype": "text/x-python",
   "name": "python",
   "nbconvert_exporter": "python",
   "pygments_lexer": "ipython3",
   "version": "3.8.15"
  },
  "vscode": {
   "interpreter": {
    "hash": "c956a3704a8f8eeb97dfe727a2f9358e48819ec0fa6ec039db1f3b26e71f3dc9"
   }
  }
 },
 "nbformat": 4,
 "nbformat_minor": 2
}
