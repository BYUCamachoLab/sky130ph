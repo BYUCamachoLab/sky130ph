{
 "cells": [
  {
   "attachments": {},
   "cell_type": "markdown",
   "metadata": {},
   "source": [
    "This PDK has a library of photonic components that can be customized and readily used."
   ]
  },
  {
   "attachments": {},
   "cell_type": "markdown",
   "metadata": {},
   "source": [
    "## Photonic Components"
   ]
  },
  {
   "attachments": {},
   "cell_type": "markdown",
   "metadata": {},
   "source": [
    "### adiabatic_bend_90\n",
    "    \n",
    "    ```{eval-rst}\n",
    "    .. autofunction:: sky130ph.components.adiabatic_bend_90\n",
    "    ```"
   ]
  },
  {
   "cell_type": "code",
   "execution_count": 1,
   "metadata": {},
   "outputs": [
    {
     "ename": "ModuleNotFoundError",
     "evalue": "No module named 'sky130ph'",
     "output_type": "error",
     "traceback": [
      "\u001b[0;31m---------------------------------------------------------------------------\u001b[0m",
      "\u001b[0;31mModuleNotFoundError\u001b[0m                       Traceback (most recent call last)",
      "Cell \u001b[0;32mIn[1], line 1\u001b[0m\n\u001b[0;32m----> 1\u001b[0m \u001b[39mimport\u001b[39;00m \u001b[39msky130ph\u001b[39;00m\u001b[39m.\u001b[39;00m\u001b[39mcomponents\u001b[39;00m \u001b[39mas\u001b[39;00m \u001b[39msky130ph\u001b[39;00m\n\u001b[1;32m      3\u001b[0m c \u001b[39m=\u001b[39m sky130ph\u001b[39m.\u001b[39madiabatic_bend_90()\n\u001b[1;32m      4\u001b[0m c\u001b[39m.\u001b[39mplot()\n",
      "\u001b[0;31mModuleNotFoundError\u001b[0m: No module named 'sky130ph'"
     ]
    }
   ],
   "source": [
    "import sky130ph.components as sky130ph\n",
    "\n",
    "c = sky130ph.adiabatic_bend_90()\n",
    "c.plot()"
   ]
  },
  {
   "cell_type": "markdown",
   "metadata": {},
   "source": [
    "## coupler\n",
    "\n",
    "```{eval-rst}\n",
    "..autofunction:: sky130ph.components.coupler()\n",
    "```"
   ]
  },
  {
   "cell_type": "code",
   "execution_count": 3,
   "metadata": {},
   "outputs": [
    {
     "ename": "ModuleNotFoundError",
     "evalue": "No module named 'sky130ph'",
     "output_type": "error",
     "traceback": [
      "\u001b[0;31m---------------------------------------------------------------------------\u001b[0m",
      "\u001b[0;31mModuleNotFoundError\u001b[0m                       Traceback (most recent call last)",
      "Cell \u001b[0;32mIn[3], line 1\u001b[0m\n\u001b[0;32m----> 1\u001b[0m \u001b[39mimport\u001b[39;00m \u001b[39msky130ph\u001b[39;00m\u001b[39m.\u001b[39;00m\u001b[39mcomponents\u001b[39;00m \u001b[39mas\u001b[39;00m \u001b[39msky130ph\u001b[39;00m\n\u001b[1;32m      2\u001b[0m c \u001b[39m=\u001b[39m sky130ph\u001b[39m.\u001b[39mcoupler()\n\u001b[1;32m      3\u001b[0m c\u001b[39m.\u001b[39mplot()\n",
      "\u001b[0;31mModuleNotFoundError\u001b[0m: No module named 'sky130ph'"
     ]
    }
   ],
   "source": [
    "import sky130ph.components as sky130ph\n",
    "c = sky130ph.coupler()\n",
    "c.plot()"
   ]
  },
  {
   "attachments": {},
   "cell_type": "markdown",
   "metadata": {},
   "source": [
    "## dbr\n",
    "\n",
    "```{eval-rst}\n",
    "..autofunction:: sky130ph.components.dbr()\n",
    "```"
   ]
  },
  {
   "cell_type": "code",
   "execution_count": 4,
   "metadata": {},
   "outputs": [
    {
     "ename": "ModuleNotFoundError",
     "evalue": "No module named 'sky130ph'",
     "output_type": "error",
     "traceback": [
      "\u001b[0;31m---------------------------------------------------------------------------\u001b[0m",
      "\u001b[0;31mModuleNotFoundError\u001b[0m                       Traceback (most recent call last)",
      "Cell \u001b[0;32mIn[4], line 1\u001b[0m\n\u001b[0;32m----> 1\u001b[0m \u001b[39mimport\u001b[39;00m \u001b[39msky130ph\u001b[39;00m\u001b[39m.\u001b[39;00m\u001b[39mcomponents\u001b[39;00m \u001b[39mas\u001b[39;00m \u001b[39msky130ph\u001b[39;00m\n\u001b[1;32m      2\u001b[0m c \u001b[39m=\u001b[39m sky130ph\u001b[39m.\u001b[39mdbr()\n\u001b[1;32m      3\u001b[0m c\u001b[39m.\u001b[39mplot()\n",
      "\u001b[0;31mModuleNotFoundError\u001b[0m: No module named 'sky130ph'"
     ]
    }
   ],
   "source": [
    "import sky130ph.components as sky130ph\n",
    "c = sky130ph.dbr()\n",
    "c.plot()"
   ]
  }
 ],
 "metadata": {
  "kernelspec": {
   "display_name": "Python 3",
   "language": "python",
   "name": "python3"
  },
  "language_info": {
   "codemirror_mode": {
    "name": "ipython",
    "version": 3
   },
   "file_extension": ".py",
   "mimetype": "text/x-python",
   "name": "python",
   "nbconvert_exporter": "python",
   "pygments_lexer": "ipython3",
   "version": "3.10.4"
  },
  "orig_nbformat": 4,
  "vscode": {
   "interpreter": {
    "hash": "3ad933181bd8a04b432d3370b9dc3b0662ad032c4dfaa4e4f1596c548f763858"
   }
  }
 },
 "nbformat": 4,
 "nbformat_minor": 2
}
